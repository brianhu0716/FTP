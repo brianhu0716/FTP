{
 "cells": [
  {
   "cell_type": "markdown",
   "id": "4b9027b9",
   "metadata": {},
   "source": [
    "# FTP test website: https://dlptest.com/ftp-test/"
   ]
  },
  {
   "cell_type": "code",
   "execution_count": 261,
   "id": "ed4645ac",
   "metadata": {},
   "outputs": [
    {
     "data": {
      "text/plain": [
       "'230 Login successful.'"
      ]
     },
     "execution_count": 261,
     "metadata": {},
     "output_type": "execute_result"
    }
   ],
   "source": [
    "from ftplib import FTP\n",
    "ftp = FTP()\n",
    "ftp.connect(host='ftp.dlptest.com', timeout=30)\n",
    "ftp.login(user='dlpuser', passwd='rNrKYTX9g7z3RgJRmxWuGHbeu')"
   ]
  },
  {
   "cell_type": "code",
   "execution_count": 262,
   "id": "26566d51",
   "metadata": {},
   "outputs": [
    {
     "name": "stdout",
     "output_type": "stream",
     "text": [
      "C:\\Users\\Brian Hu\\Desktop\\temp_folder\n"
     ]
    }
   ],
   "source": [
    "import os\n",
    "from os.path import isdir, dirname, join, normpath\n",
    "print(os.getcwd())"
   ]
  },
  {
   "cell_type": "code",
   "execution_count": 263,
   "id": "3e2bf64e",
   "metadata": {},
   "outputs": [
    {
     "name": "stdout",
     "output_type": "stream",
     "text": [
      "C:\\Users\\Brian Hu\\Desktop\\temp_folder\\pd_write_data\n",
      "-rw-r--r--    1 1001     1001            0 Jun 30 12:27 10MB.zip\n",
      "drwxr-xr-x    3 1001     1001           18 Jun 30 12:25 Vorne\n",
      "-rw-r--r--    1 1001     1001        26235 Jun 30 12:27 table.csv\n",
      "-rw-r--r--    1 1001     1001            0 Jun 30 12:27 test.txt\n"
     ]
    }
   ],
   "source": [
    "os.chdir('C:\\\\Users\\\\Brian Hu\\\\Desktop\\\\temp_folder\\\\pd_write_data')\n",
    "print(os.getcwd())\n",
    "filename = 'table.csv'\n",
    "with open(filename, \"rb\") as file:\n",
    "    ftp.storbinary(\"STOR table.csv\", file)\n",
    "ftp.dir()"
   ]
  },
  {
   "cell_type": "code",
   "execution_count": 92,
   "id": "1fc23aa4",
   "metadata": {},
   "outputs": [
    {
     "name": "stdout",
     "output_type": "stream",
     "text": [
      "-rw-r--r--    1 1001     1001            3 Jun 30 08:10 1.TXT\n",
      "-rw-r--r--    1 1001     1001        24907 Jun 30 08:11 5306487_300.png\n",
      "-rw-r--r--    1 1001     1001        26235 Jun 30 08:11 table.csv\n",
      "drwxr-xr-x    2 1001     1001           24 Jun 30 08:10 testing-folder\n"
     ]
    }
   ],
   "source": [
    "os.chdir('C:\\\\Users\\\\Brian Hu\\\\Pictures')\n",
    "filename = '5306487_300.png'\n",
    "with open('5306487_300.png', 'rb') as file:\n",
    "    ftp.storbinary('STOR ' + filename, file)\n",
    "ftp.dir()"
   ]
  },
  {
   "cell_type": "code",
   "execution_count": 93,
   "id": "e02c26d0",
   "metadata": {},
   "outputs": [
    {
     "name": "stdout",
     "output_type": "stream",
     "text": [
      "-rw-r--r--    1 1001     1001            3 Jun 30 08:10 1.TXT\n",
      "-rw-r--r--    1 1001     1001        24907 Jun 30 08:11 5306487_300.png\n",
      "drwxr-xr-x    2 1001     1001           24 Jun 30 08:10 testing-folder\n"
     ]
    }
   ],
   "source": [
    "ftp.delete('table.csv')\n",
    "ftp.dir()"
   ]
  },
  {
   "cell_type": "code",
   "execution_count": 94,
   "id": "c1937c13",
   "metadata": {},
   "outputs": [
    {
     "data": {
      "text/plain": [
       "'250 Rename successful.'"
      ]
     },
     "execution_count": 94,
     "metadata": {},
     "output_type": "execute_result"
    }
   ],
   "source": [
    "ftp.rename('5306487_300.png', 'AIE_logo.png')"
   ]
  },
  {
   "cell_type": "code",
   "execution_count": 95,
   "id": "7d2f62a4",
   "metadata": {},
   "outputs": [
    {
     "name": "stdout",
     "output_type": "stream",
     "text": [
      "-rw-r--r--    1 1001     1001            3 Jun 30 08:10 1.TXT\n",
      "-rw-r--r--    1 1001     1001        24907 Jun 30 08:11 AIE_logo.png\n",
      "drwxr-xr-x    2 1001     1001           24 Jun 30 08:10 testing-folder\n"
     ]
    }
   ],
   "source": [
    "ftp.dir()"
   ]
  },
  {
   "cell_type": "code",
   "execution_count": 96,
   "id": "07e69ea1",
   "metadata": {},
   "outputs": [],
   "source": [
    "os.chdir('C:\\\\FTP Server')\n",
    "filename = 'AIE_logo.png'\n",
    "with open('AIE_logo.png', 'wb') as file:\n",
    "    ftp.retrbinary('RETR ' + filename, file.write)\n"
   ]
  },
  {
   "cell_type": "code",
   "execution_count": 97,
   "id": "930bf77f",
   "metadata": {},
   "outputs": [
    {
     "name": "stdout",
     "output_type": "stream",
     "text": [
      "-rw-r--r--    1 1001     1001            3 Jun 30 08:10 1.TXT\n",
      "-rw-r--r--    1 1001     1001        24907 Jun 30 08:11 AIE_logo.png\n",
      "drwxr-xr-x    2 1001     1001            6 Jun 30 08:12 pd_write_data\n",
      "drwxr-xr-x    2 1001     1001           24 Jun 30 08:10 testing-folder\n"
     ]
    }
   ],
   "source": [
    "ftp.mkd('/pd_write_data')\n",
    "ftp.dir()"
   ]
  },
  {
   "cell_type": "code",
   "execution_count": 100,
   "id": "54360a1b",
   "metadata": {},
   "outputs": [
    {
     "data": {
      "text/plain": [
       "'/'"
      ]
     },
     "execution_count": 100,
     "metadata": {},
     "output_type": "execute_result"
    }
   ],
   "source": [
    "ftp.pwd()"
   ]
  },
  {
   "cell_type": "code",
   "execution_count": 115,
   "id": "d37d3568",
   "metadata": {},
   "outputs": [
    {
     "name": "stdout",
     "output_type": "stream",
     "text": [
      "-rw-r--r--    1 1001     1001      1964893 Jun 30 08:52 actualvariables.gz\n",
      "-rw-r--r--    1 1001     1001         1497 Jun 30 08:52 data.gz\n",
      "-rw-r--r--    1 1001     1001       138603 Jun 30 08:52 derivedrepresentative.gz\n",
      "drwxr-xr-x    2 1001     1001            6 Jun 30 08:52 hello\n",
      "-rw-r--r--    1 1001     1001       671188 Jun 30 08:52 meteorepresentative.gz\n",
      "-rw-r--r--    1 1001     1001         3477 Jun 30 08:52 station.gz\n",
      "-rw-r--r--    1 1001     1001          113 Jun 30 08:52 torre.gz\n"
     ]
    },
    {
     "data": {
      "text/plain": [
       "'250 Directory successfully changed.'"
      ]
     },
     "execution_count": 115,
     "metadata": {},
     "output_type": "execute_result"
    }
   ],
   "source": [
    "ftp.mkd('hello')\n",
    "\n",
    "ftp.dir()\n",
    "\n",
    "ftp.cwd('/hello')"
   ]
  },
  {
   "cell_type": "code",
   "execution_count": 118,
   "id": "4741e639",
   "metadata": {},
   "outputs": [
    {
     "data": {
      "text/plain": [
       "'/'"
      ]
     },
     "execution_count": 118,
     "metadata": {},
     "output_type": "execute_result"
    }
   ],
   "source": [
    "ftp.mkd('/haha')\n",
    "ftp.dir()\n",
    "ftp.cwd('/haha')\n",
    "\n",
    "ftp.pwd()\n",
    "\n",
    "ftp.cwd(\"../\")\n",
    "\n",
    "ftp.pwd()"
   ]
  },
  {
   "cell_type": "code",
   "execution_count": 290,
   "id": "4f3900a8",
   "metadata": {},
   "outputs": [
    {
     "name": "stdout",
     "output_type": "stream",
     "text": [
      "C:\\Users\\Brian Hu\\Desktop\\temp_folder\n"
     ]
    }
   ],
   "source": [
    "from ftplib import FTP\n",
    "ftp = FTP()\n",
    "ftp.connect(host='ftp.dlptest.com', timeout=30)\n",
    "ftp.login(user='dlpuser', passwd='rNrKYTX9g7z3RgJRmxWuGHbeu')\n",
    "import os\n",
    "from os.path import isdir, dirname, join, normpath\n",
    "print(os.getcwd())"
   ]
  },
  {
   "cell_type": "code",
   "execution_count": 291,
   "id": "edce3e87",
   "metadata": {},
   "outputs": [],
   "source": [
    "def dfs(local_path, ftp_path):\n",
    "    print('local_path is in', local_path)\n",
    "    print('local path includes ', os.listdir(local_path))\n",
    "    for filename in os.listdir(local_path):\n",
    "        print('i am now in ' + ftp.pwd())\n",
    "        if isdir(join(local_path, filename)):\n",
    "            ftp.mkd(filename)\n",
    "            print('i am going to ' + ftp.pwd() + '/' + filename)\n",
    "            ftp.cwd(ftp.pwd() + '/' + filename)\n",
    "            local_path = join(local_path, filename)\n",
    "            dfs(local_path, ftp.pwd())\n",
    "            local_path = dirname(local_path)\n",
    "            ftp.cwd('../')\n",
    "        else:\n",
    "            abs_path = local_path + '\\\\' + filename\n",
    "            with open(abs_path, 'rb') as file:\n",
    "                ftp.storbinary('STOR ' + filename, file)\n"
   ]
  },
  {
   "cell_type": "code",
   "execution_count": 292,
   "id": "8ef2d8a1",
   "metadata": {},
   "outputs": [
    {
     "name": "stdout",
     "output_type": "stream",
     "text": [
      "local_path is in C:\\Users\\Brian Hu\\Desktop\\temp_folder\n",
      "local path includes  ['carrefour coupon.pdf', 'pd_write_data']\n",
      "i am now in /temp_folder\n",
      "i am now in /temp_folder\n",
      "i am going to /temp_folder/pd_write_data\n",
      "local_path is in C:\\Users\\Brian Hu\\Desktop\\temp_folder\\pd_write_data\n",
      "local path includes  ['table.csv']\n",
      "i am now in /temp_folder/pd_write_data\n"
     ]
    }
   ],
   "source": [
    "ftp.mkd('temp_folder')\n",
    "ftp.cwd('/temp_folder')\n",
    "# ftp.pwd()\n",
    "# os.getcwd()\n",
    "os.chdir('C:/Users/Brian Hu/Desktop/temp_folder')\n",
    "local_path = os.getcwd()\n",
    "dfs(local_path, ftp.pwd())"
   ]
  },
  {
   "cell_type": "code",
   "execution_count": 296,
   "id": "6de43ace",
   "metadata": {},
   "outputs": [
    {
     "data": {
      "text/plain": [
       "'221 Goodbye.'"
      ]
     },
     "execution_count": 296,
     "metadata": {},
     "output_type": "execute_result"
    }
   ],
   "source": [
    "ftp.quit()"
   ]
  },
  {
   "cell_type": "code",
   "execution_count": null,
   "id": "0f1906b6",
   "metadata": {},
   "outputs": [],
   "source": []
  }
 ],
 "metadata": {
  "kernelspec": {
   "display_name": "Python 3",
   "language": "python",
   "name": "python3"
  },
  "language_info": {
   "codemirror_mode": {
    "name": "ipython",
    "version": 3
   },
   "file_extension": ".py",
   "mimetype": "text/x-python",
   "name": "python",
   "nbconvert_exporter": "python",
   "pygments_lexer": "ipython3",
   "version": "3.8.8"
  }
 },
 "nbformat": 4,
 "nbformat_minor": 5
}
