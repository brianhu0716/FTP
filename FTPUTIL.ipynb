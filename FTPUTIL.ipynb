{
 "cells": [
  {
   "cell_type": "markdown",
   "id": "d018edde",
   "metadata": {},
   "source": [
    "# FTP test website: https://dlptest.com/ftp-test/\n",
    "# Reference: https://ftputil.sschwarzer.net/trac/wiki/Documentation#uploading-and-downloading-files\n"
   ]
  },
  {
   "cell_type": "code",
   "execution_count": 1,
   "id": "f7b150aa",
   "metadata": {},
   "outputs": [],
   "source": [
    "import ftputil\n",
    "import os\n",
    "host = ftputil.FTPHost(\"ftp.dlptest.com\", 'dlpuser', 'rNrKYTX9g7z3RgJRmxWuGHbeu')"
   ]
  },
  {
   "cell_type": "markdown",
   "id": "42939727",
   "metadata": {},
   "source": [
    "# show all files name in current directory"
   ]
  },
  {
   "cell_type": "code",
   "execution_count": 2,
   "id": "6f52494e",
   "metadata": {},
   "outputs": [
    {
     "data": {
      "text/plain": [
       "['actorstoday.txt', 'actorstomorrow.txt']"
      ]
     },
     "execution_count": 2,
     "metadata": {},
     "output_type": "execute_result"
    }
   ],
   "source": [
    "host.listdir(host.curdir)"
   ]
  },
  {
   "cell_type": "markdown",
   "id": "31e03395",
   "metadata": {},
   "source": [
    "# create an empty directory at FTP server"
   ]
  },
  {
   "cell_type": "code",
   "execution_count": 3,
   "id": "1a2e5f9b",
   "metadata": {},
   "outputs": [
    {
     "data": {
      "text/plain": [
       "['actorstoday.txt', 'actorstomorrow.txt', 'temp_folder']"
      ]
     },
     "execution_count": 3,
     "metadata": {},
     "output_type": "execute_result"
    }
   ],
   "source": [
    "host.mkdir('temp_folder')\n",
    "\n",
    "host.listdir(host.curdir)"
   ]
  },
  {
   "cell_type": "markdown",
   "id": "d18ce516",
   "metadata": {},
   "source": [
    "# delete an empty folder from FTP server"
   ]
  },
  {
   "cell_type": "code",
   "execution_count": 4,
   "id": "dd3f6d8d",
   "metadata": {},
   "outputs": [
    {
     "data": {
      "text/plain": [
       "['actorstoday.txt', 'actorstomorrow.txt']"
      ]
     },
     "execution_count": 4,
     "metadata": {},
     "output_type": "execute_result"
    }
   ],
   "source": [
    "foldername = 'temp_folder'\n",
    "\n",
    "host.rmdir(foldername)\n",
    "\n",
    "host.listdir(host.curdir)"
   ]
  },
  {
   "cell_type": "markdown",
   "id": "75cb8fc7",
   "metadata": {},
   "source": [
    "# upload a file from local to FTP server"
   ]
  },
  {
   "cell_type": "code",
   "execution_count": 5,
   "id": "91560a82",
   "metadata": {},
   "outputs": [
    {
     "data": {
      "text/plain": [
       "['FTP setup.docx', 'actorstoday.txt', 'actorstomorrow.txt']"
      ]
     },
     "execution_count": 5,
     "metadata": {},
     "output_type": "execute_result"
    }
   ],
   "source": [
    "os.chdir('C:/Users/Brian Hu/Desktop')\n",
    "\n",
    "filename = 'FTP setup.docx'\n",
    "\n",
    "host.upload(filename, filename)\n",
    "host.listdir(host.curdir)"
   ]
  },
  {
   "cell_type": "markdown",
   "id": "084225dd",
   "metadata": {},
   "source": [
    "# download a file from FTP sever to local"
   ]
  },
  {
   "cell_type": "code",
   "execution_count": 6,
   "id": "709283ea",
   "metadata": {},
   "outputs": [
    {
     "data": {
      "text/plain": [
       "['desktop.ini', 'FTP setup.docx']"
      ]
     },
     "execution_count": 6,
     "metadata": {},
     "output_type": "execute_result"
    }
   ],
   "source": [
    "os.chdir('C:/FTP Server')\n",
    "\n",
    "filename = 'FTP setup.docx'\n",
    "\n",
    "host.download(filename, filename)\n",
    "\n",
    "os.listdir(os.curdir)"
   ]
  },
  {
   "cell_type": "markdown",
   "id": "2e1ba033",
   "metadata": {},
   "source": [
    "# delete a file from FTP server"
   ]
  },
  {
   "cell_type": "code",
   "execution_count": 7,
   "id": "aef84aa3",
   "metadata": {},
   "outputs": [
    {
     "data": {
      "text/plain": [
       "['actorstoday.txt', 'actorstomorrow.txt']"
      ]
     },
     "execution_count": 7,
     "metadata": {},
     "output_type": "execute_result"
    }
   ],
   "source": [
    "filename = 'FTP setup.docx'\n",
    "\n",
    "host.remove(filename) \n",
    "\n",
    "host.listdir(host.curdir)"
   ]
  },
  {
   "cell_type": "markdown",
   "id": "87853488",
   "metadata": {},
   "source": [
    "# upload a folder from localto FTP server"
   ]
  },
  {
   "cell_type": "code",
   "execution_count": 11,
   "id": "44ef5111",
   "metadata": {},
   "outputs": [],
   "source": [
    "def Upload():\n",
    "    for filename in os.listdir(os.curdir):\n",
    "        if os.path.isdir(os.path.join(os.curdir, filename)):\n",
    "            host.mkdir(filename)\n",
    "            host.chdir(host.path.join(host.curdir, filename))\n",
    "            os.chdir(os.path.join(os.curdir, filename))\n",
    "            Upload()\n",
    "            host.chdir('../')\n",
    "            os.chdir('../')\n",
    "        else:\n",
    "            host.upload(filename, filename)\n",
    "target = 'temp_folder'\n",
    "if target in host.listdir(host.curdir):\n",
    "    host.rmtree(target)\n",
    "host.mkdir(target)\n",
    "root = 'C:/Users/Brian Hu/Desktop/temp_folder'\n",
    "os.chdir(root)\n",
    "host.chdir(host.path.join(host.curdir, target))\n",
    "Upload()"
   ]
  },
  {
   "cell_type": "code",
   "execution_count": 12,
   "id": "354b4b37",
   "metadata": {},
   "outputs": [
    {
     "data": {
      "text/plain": [
       "['carrefour coupon.pdf', 'pd_write_data']"
      ]
     },
     "execution_count": 12,
     "metadata": {},
     "output_type": "execute_result"
    }
   ],
   "source": [
    "host.listdir(host.curdir)"
   ]
  },
  {
   "cell_type": "code",
   "execution_count": 13,
   "id": "6a886a50",
   "metadata": {},
   "outputs": [
    {
     "data": {
      "text/plain": [
       "['table.csv']"
      ]
     },
     "execution_count": 13,
     "metadata": {},
     "output_type": "execute_result"
    }
   ],
   "source": [
    "host.chdir(host.path.join(host.curdir, 'pd_write_data'))\n",
    "\n",
    "host.listdir(host.curdir)"
   ]
  },
  {
   "cell_type": "code",
   "execution_count": 14,
   "id": "7fa531aa",
   "metadata": {},
   "outputs": [
    {
     "data": {
      "text/plain": [
       "['carrefour coupon.pdf', 'pd_write_data']"
      ]
     },
     "execution_count": 14,
     "metadata": {},
     "output_type": "execute_result"
    }
   ],
   "source": [
    "host.chdir('../')\n",
    "\n",
    "host.listdir(host.curdir)"
   ]
  },
  {
   "cell_type": "markdown",
   "id": "4a815453",
   "metadata": {},
   "source": [
    "# download a folder from FTP server to local"
   ]
  },
  {
   "cell_type": "code",
   "execution_count": 15,
   "id": "a0f20d34",
   "metadata": {},
   "outputs": [
    {
     "data": {
      "text/plain": [
       "['actorstoday.txt', 'actorstomorrow.txt', 'temp_folder']"
      ]
     },
     "execution_count": 15,
     "metadata": {},
     "output_type": "execute_result"
    }
   ],
   "source": [
    "host.chdir('../')\n",
    "\n",
    "host.listdir(host.curdir)"
   ]
  },
  {
   "cell_type": "code",
   "execution_count": 16,
   "id": "7c1d2574",
   "metadata": {},
   "outputs": [],
   "source": [
    "def Download():\n",
    "    for filename in host.listdir(host.curdir):\n",
    "        if host.path.isdir(host.path.join(host.curdir, filename)):\n",
    "            os.mkdir(filename)\n",
    "            os.chdir(os.path.join(os.curdir, filename))\n",
    "            host.chdir(host.path.join(host.curdir, filename))\n",
    "            Download()\n",
    "            os.chdir('../')\n",
    "            host.chdir('../')\n",
    "        else:\n",
    "            host.download(filename, filename)\n",
    "root = 'C:/FTP Server'\n",
    "target = 'temp_folder'\n",
    "host.chdir(host.path.join(host.curdir, target))\n",
    "os.chdir(root)\n",
    "os.mkdir(target)\n",
    "os.chdir(os.path.join(os.curdir, target))\n",
    "Download()"
   ]
  },
  {
   "cell_type": "markdown",
   "id": "dd4c7aa5",
   "metadata": {},
   "source": [
    "# remove a non-empty folder from FTP server"
   ]
  },
  {
   "cell_type": "code",
   "execution_count": 17,
   "id": "539a797c",
   "metadata": {},
   "outputs": [
    {
     "data": {
      "text/plain": [
       "['actorstoday.txt', 'actorstomorrow.txt']"
      ]
     },
     "execution_count": 17,
     "metadata": {},
     "output_type": "execute_result"
    }
   ],
   "source": [
    "host.chdir('../')\n",
    "\n",
    "host.rmtree('temp_folder')\n",
    "\n",
    "host.listdir(host.curdir)"
   ]
  },
  {
   "cell_type": "markdown",
   "id": "fed3eebb",
   "metadata": {},
   "source": [
    "# close FTP server"
   ]
  },
  {
   "cell_type": "code",
   "execution_count": 18,
   "id": "d58f79b7",
   "metadata": {},
   "outputs": [],
   "source": [
    "host.close()"
   ]
  },
  {
   "cell_type": "code",
   "execution_count": null,
   "id": "bbf70e1a",
   "metadata": {},
   "outputs": [],
   "source": []
  }
 ],
 "metadata": {
  "kernelspec": {
   "display_name": "Python 3",
   "language": "python",
   "name": "python3"
  },
  "language_info": {
   "codemirror_mode": {
    "name": "ipython",
    "version": 3
   },
   "file_extension": ".py",
   "mimetype": "text/x-python",
   "name": "python",
   "nbconvert_exporter": "python",
   "pygments_lexer": "ipython3",
   "version": "3.8.8"
  }
 },
 "nbformat": 4,
 "nbformat_minor": 5
}
